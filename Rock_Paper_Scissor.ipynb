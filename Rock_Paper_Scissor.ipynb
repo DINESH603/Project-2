{
 "cells": [
  {
   "cell_type": "markdown",
   "id": "00a15f2f",
   "metadata": {},
   "source": [
    "# Rock Paper Scissor Project\n",
    "Here a user and machine are considered as 2 participants"
   ]
  },
  {
   "cell_type": "code",
   "execution_count": 39,
   "id": "1fa3442c",
   "metadata": {},
   "outputs": [
    {
     "name": "stdout",
     "output_type": "stream",
     "text": [
      "Choose Rock/Paper/Scissorscissor\n",
      "user selection is Scissor and machine selection is Rock\n",
      "maachine has won\n"
     ]
    }
   ],
   "source": [
    "import random                                        #importing random module for machine selection \n",
    "userSelection=input('Choose Rock/Paper/Scissor')\n",
    "userSelection=userSelection.capitalize()\n",
    "values=['Rock','Paper','Scissor']\n",
    "machineSelection=random.choice(values)\n",
    "                                                    #selecting the winner \n",
    "if (userSelection==machineSelection):\n",
    "    print('user selection is {user} and machine selection is {machine}'.format(user=userSelection,machine=machineSelection))\n",
    "    print('yes its a match')\n",
    "    \n",
    "elif (userSelection=='Rock') and (machineSelection=='Paper') or (userSelection=='Paper') and (machineSelection=='Rock'):\n",
    "    print('user selection is {user} and machine selection is {machine}'.format(user=userSelection,machine=machineSelection))\n",
    "    if(userSelection=='Paper'):\n",
    "        print('User has won ')\n",
    "    else:\n",
    "        print('maachine has won')\n",
    "    \n",
    "elif (userSelection=='Rock') and (machineSelection=='Scissor') or (userSelection=='Scissor') and (machineSelection=='Rock'):\n",
    "    print('user selection is {user} and machine selection is {machine}'.format(user=userSelection,machine=machineSelection))\n",
    "    if(userSelection=='Rock'):\n",
    "        print('User has won ')\n",
    "    else:\n",
    "        print('maachine has won')\n",
    "        \n",
    "elif (userSelection=='Paper') and (machineSelection=='Scissor') or (userSelection=='Scissor') and (machineSelection=='Paper'):\n",
    "    print('user selection is {user} and machine selection is {machine}'.format(user=userSelection,machine=machineSelection))\n",
    "    if(userSelection=='Scissor'):\n",
    "        print('User has won ')\n",
    "    else:\n",
    "        print('maachine has won')\n",
    "else:\n",
    "    print('improper input')"
   ]
  }
 ],
 "metadata": {
  "kernelspec": {
   "display_name": "Python 3",
   "language": "python",
   "name": "python3"
  },
  "language_info": {
   "codemirror_mode": {
    "name": "ipython",
    "version": 3
   },
   "file_extension": ".py",
   "mimetype": "text/x-python",
   "name": "python",
   "nbconvert_exporter": "python",
   "pygments_lexer": "ipython3",
   "version": "3.8.8"
  }
 },
 "nbformat": 4,
 "nbformat_minor": 5
}
